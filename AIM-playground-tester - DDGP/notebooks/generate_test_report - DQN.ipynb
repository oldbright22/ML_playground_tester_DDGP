{
 "cells": [
  {
   "cell_type": "code",
   "execution_count": 46,
   "id": "90c4f279",
   "metadata": {},
   "outputs": [],
   "source": [
    "from gym import Env\n",
    "from gym.spaces import Discrete, Box\n",
    "\n",
    "import numpy as np\n",
    "import random\n",
    "import imp\n",
    "\n",
    "import pyglet\n",
    "from pyglet import image\n",
    "\n",
    "import platform"
   ]
  },
  {
   "cell_type": "code",
   "execution_count": 47,
   "id": "16c82b98",
   "metadata": {},
   "outputs": [],
   "source": [
    "class ArmEnv(Env):\n",
    "    viewer = None\n",
    "    dt = .1    # refresh rate\n",
    "    \n",
    "    action_bound = [-1, 1]\n",
    "    goal = {'x': 100., 'y': 100., 'l': 40}\n",
    "    state_dim = 9\n",
    "    action_dim = 2\n",
    "    dampingK = 0.5\n",
    "    goal_pos_radius = 200.\n",
    "\n",
    "    def __init__(self):\n",
    "        \n",
    "        #define arm info struct with 2 arms {left, right}\n",
    "        self.arm_info = np.zeros(2, dtype=[('l', np.float32), ('r', np.float32)])\n",
    "        self.arm_info['l'] = 100        # 2 arms length\n",
    "        self.arm_info['r'] = np.pi/6    # 2 angles information\n",
    "        \n",
    "        \n",
    "        #left, Right Arm Movement\n",
    "        self.action_space = Discrete(2)\n",
    "        \n",
    "        #towards produce reward - allows to have a continuous value across a whole range of spaces\n",
    "        self.observation_space = Box(low=0, high=100, shape=(9,))\n",
    "        #Box(low=np.array([0]), high=np.array([100]), shape=(9,))\n",
    "         \n",
    "        #initialize goal that will help determine reward\n",
    "        self.on_goal = 0\n",
    "        \n",
    "        self.prev_finger_pos = np.array([0, 0])\n",
    "\n",
    "    def step(self, action):\n",
    "        \n",
    "        #initialize simulation to be \"not done\" => false\n",
    "        done = False\n",
    "        \n",
    "        #apply action\n",
    "        action = np.clip(action, *self.action_bound)\n",
    "        self.arm_info['r'] += action * self.dt\n",
    "        self.arm_info['r'] %= np.pi * 2  # normalize\n",
    "\n",
    "        (a1l, a2l) = self.arm_info['l']  # radius, arm length\n",
    "        (a1r, a2r) = self.arm_info['r']  # radian, angle\n",
    "        a1xy   = np.array([200., 200.])  # a1 start (x0, y0)\n",
    "        a1xy_  = np.array([np.cos(a1r), np.sin(a1r)]) * a1l + a1xy               # a1 end and a2 start (x1, y1)\n",
    "        finger = np.array([np.cos(a1r + a2r), np.sin(a1r + a2r)]) * a2l + a1xy_  # a2 end (x2, y2)\n",
    "        \n",
    "        # normalize features\n",
    "        dist1 = [(self.goal['x'] - a1xy_[0]) / 400, (self.goal['y'] - a1xy_[1]) / 400]\n",
    "        dist2 = [(self.goal['x'] - finger[0]) / 400, (self.goal['y'] - finger[1]) / 400]\n",
    "        \n",
    "        #reward\n",
    "        r = -np.sqrt(dist2[0]**2+dist2[1]**2)\n",
    "\n",
    "        #done and calculate reward\n",
    "        if self.goal['x'] - self.goal['l']/2 < finger[0] < self.goal['x'] + self.goal['l']/2:\n",
    "            if self.goal['y'] - self.goal['l']/2 < finger[1] < self.goal['y'] + self.goal['l']/2:\n",
    "                r += 1. #- dist/self.goal['l']\n",
    "                self.on_goal += 1\n",
    "                if self.on_goal > 50:\n",
    "                    done = True\n",
    "        else:\n",
    "            self.on_goal = 0\n",
    "\n",
    "        self.prev_finger_pos = finger\n",
    "    \n",
    "        #set placeholder for info\n",
    "        info = {}\n",
    "        \n",
    "        # state\n",
    "        s = np.concatenate((a1xy_/200, finger/200, dist1 + dist2, [1. if self.on_goal else 0.]))\n",
    "    \n",
    "        # state, rewards, complete\n",
    "        return s, r, done, info\n",
    "\n",
    "    \n",
    "    def render(self, follow_mouse=True):\n",
    "        if self.viewer is None:\n",
    "            self.viewer = Viewer(self.arm_info, self.goal, follow_mouse=follow_mouse)\n",
    "        self.viewer.render()\n",
    "  \n",
    "    \n",
    "    def reset(self):        \n",
    "        self.goal['x'] = np.random.rand()*400.\n",
    "        self.goal['y'] = np.random.rand()*400.\n",
    "        self.arm_info['r'] = 2 * np.pi * np.random.rand(2)\n",
    "        self.on_goal = 0\n",
    "        (a1l, a2l) = self.arm_info['l']  # radius, arm length\n",
    "        (a1r, a2r) = self.arm_info['r']  # radian, angle\n",
    "        a1xy = np.array([200., 200.])  # a1 start (x0, y0)\n",
    "        a1xy_ = np.array([np.cos(a1r), np.sin(a1r)]) * a1l + a1xy  # a1 end and a2 start (x1, y1)\n",
    "        finger = np.array([np.cos(a1r + a2r), np.sin(a1r + a2r)]) * a2l + a1xy_  # a2 end (x2, y2)\n",
    "        \n",
    "        # normalize features\n",
    "        dist1 = [(self.goal['x'] - a1xy_[0])/400, (self.goal['y'] - a1xy_[1])/400]\n",
    "        dist2 = [(self.goal['x'] - finger[0])/400, (self.goal['y'] - finger[1])/400]\n",
    "        \n",
    "        # state\n",
    "        s = np.concatenate((a1xy_/200, finger/200, dist1 + dist2, [1. if self.on_goal else 0.]))\n",
    "        \n",
    "        return s\n",
    "\n",
    "\n",
    "    def sample_action(self):\n",
    "        return np.random.rand(2)-0.5    # two radians\n",
    "\n"
   ]
  },
  {
   "cell_type": "code",
   "execution_count": 48,
   "id": "a6243035",
   "metadata": {},
   "outputs": [],
   "source": [
    "class Viewer(pyglet.window.Window):\n",
    "    bar_thc = 5\n",
    "\n",
    "    def __init__(self, arm_info, goal, follow_mouse=True):\n",
    "        # self.glconfig = pyglet.gl.Config(sample_buffers=1, samples=8) # Windows\n",
    "        # Linux\n",
    "\n",
    "        vsync=False # To speed up training  \n",
    "        if platform.system() == \"Darwin\":\n",
    "            super(Viewer, self).__init__(width=400, height=400)\n",
    "        elif platform.system() == \"Linux\":\n",
    "            self.glconfig = pyglet.gl.Config()\n",
    "            super(Viewer, self).__init__(config=self.glconfig, width=400, height=400, resizable=False, caption='AIM', vsync=vsync, style=pyglet.window.Window.WINDOW_STYLE_BORDERLESS)\n",
    "        elif platform.system() == \"Windows\":\n",
    "            self.glconfig = pyglet.gl.Config(sample_buffers=1, samples=8)\n",
    "            super(Viewer, self).__init__(config=self.glconfig, width=400, height=400, resizable=False, caption='AIM', vsync=vsync, style=pyglet.window.Window.WINDOW_STYLE_BORDERLESS)\n",
    "        else:\n",
    "            super(Viewer, self).__init__(width=400, height=400)\n",
    "          \n",
    "        pyglet.gl.glClearColor(0, 0, 0, 0)\n",
    "        self.arm_info = arm_info\n",
    "        self.goal_info = goal\n",
    "        self.center_coord = np.array([200, 200])\n",
    "\n",
    "        self.batch = pyglet.graphics.Batch()    # display whole batch at once\n",
    "        self.goal = self.batch.add(\n",
    "            4, pyglet.gl.GL_QUADS, None,    # 4 corners\n",
    "            ('v2f', [goal['x'] - goal['l'] / 2, goal['y'] - goal['l'] / 2, # location\n",
    "                     goal['x'] - goal['l'] / 2, goal['y'] + goal['l'] / 2,\n",
    "                     goal['x'] + goal['l'] / 2, goal['y'] + goal['l'] / 2,\n",
    "                     goal['x'] + goal['l'] / 2, goal['y'] - goal['l'] / 2]),\n",
    "            ('c3B', (96, 96, 96) * 4))    # color\n",
    "\n",
    "        self.arm1 = self.batch.add(\n",
    "            4, pyglet.gl.GL_QUADS, None,\n",
    "            ('v2f', [250, 250,               # location\n",
    "                     250, 300,\n",
    "                     260, 300,\n",
    "                     260, 250]),\n",
    "            ('c3B', (255, 215, 0) * 4,),     # color\n",
    "        )\n",
    "        \n",
    "        self.arm2 = self.batch.add(\n",
    "            4, pyglet.gl.GL_QUADS, None,\n",
    "            ('v2f', [100, 150,               # location\n",
    "                     100, 160,\n",
    "                     200, 160,\n",
    "                     200, 150]),\n",
    "            ('c3B', (255, 215, 0) * 4,))    \n",
    "\n",
    "        self.follow_mouse = follow_mouse\n",
    "\n",
    "    def render(self):\n",
    "        self._update_arm()\n",
    "        self.switch_to()\n",
    "        self.dispatch_events()\n",
    "        self.dispatch_event('on_draw')\n",
    "        self.flip()\n",
    "\n",
    "    def on_draw(self):\n",
    "        self.clear()\n",
    "        self.batch.draw()\n",
    "\n",
    "    def _update_arm(self):\n",
    "        # update goal\n",
    "        self.goal.vertices = (\n",
    "            self.goal_info['x'] - self.goal_info['l']/2, self.goal_info['y'] - self.goal_info['l']/2,\n",
    "            self.goal_info['x'] + self.goal_info['l']/2, self.goal_info['y'] - self.goal_info['l']/2,\n",
    "            self.goal_info['x'] + self.goal_info['l']/2, self.goal_info['y'] + self.goal_info['l']/2,\n",
    "            self.goal_info['x'] - self.goal_info['l']/2, self.goal_info['y'] + self.goal_info['l']/2)\n",
    "\n",
    "        # update arm\n",
    "        (a1l, a2l) = self.arm_info['l']     # radius, arm length\n",
    "        (a1r, a2r) = self.arm_info['r']     # radian, angle\n",
    "        a1xy = self.center_coord            # a1 start (x0, y0)\n",
    "        a1xy_ = np.array([np.cos(a1r), np.sin(a1r)]) * a1l + a1xy   # a1 end and a2 start (x1, y1)\n",
    "        a2xy_ = np.array([np.cos(a1r+a2r), np.sin(a1r+a2r)]) * a2l + a1xy_  # a2 end (x2, y2)\n",
    "\n",
    "        a1tr, a2tr = np.pi / 2 - self.arm_info['r'][0], np.pi / 2 - self.arm_info['r'].sum()\n",
    "        xy01 = a1xy + np.array([-np.cos(a1tr), np.sin(a1tr)]) * self.bar_thc\n",
    "        xy02 = a1xy + np.array([np.cos(a1tr), -np.sin(a1tr)]) * self.bar_thc\n",
    "        xy11 = a1xy_ + np.array([np.cos(a1tr), -np.sin(a1tr)]) * self.bar_thc\n",
    "        xy12 = a1xy_ + np.array([-np.cos(a1tr), np.sin(a1tr)]) * self.bar_thc\n",
    "\n",
    "        xy11_ = a1xy_ + np.array([np.cos(a2tr), -np.sin(a2tr)]) * self.bar_thc\n",
    "        xy12_ = a1xy_ + np.array([-np.cos(a2tr), np.sin(a2tr)]) * self.bar_thc\n",
    "        xy21  = a2xy_ + np.array([-np.cos(a2tr), np.sin(a2tr)]) * self.bar_thc\n",
    "        xy22  = a2xy_ + np.array([np.cos(a2tr), -np.sin(a2tr)]) * self.bar_thc\n",
    "\n",
    "        self.arm1.vertices = np.concatenate((xy01, xy02, xy11, xy12))\n",
    "        self.arm2.vertices = np.concatenate((xy11_, xy12_, xy21, xy22))\n",
    "\n",
    "    # convert the mouse coordinate to goal's coordinate\n",
    "    def on_mouse_motion(self, x, y, dx, dy):\n",
    "        if self.follow_mouse:\n",
    "            self.goal_info['x'] = x\n",
    "            self.goal_info['y'] = y\n"
   ]
  },
  {
   "cell_type": "code",
   "execution_count": 49,
   "id": "bca5a350",
   "metadata": {},
   "outputs": [],
   "source": [
    "env = ArmEnv()"
   ]
  },
  {
   "cell_type": "code",
   "execution_count": 50,
   "id": "abb27834",
   "metadata": {},
   "outputs": [
    {
     "data": {
      "text/plain": [
       "0"
      ]
     },
     "execution_count": 50,
     "metadata": {},
     "output_type": "execute_result"
    }
   ],
   "source": [
    "env.action_space.sample()"
   ]
  },
  {
   "cell_type": "code",
   "execution_count": 51,
   "id": "df7b9081",
   "metadata": {},
   "outputs": [
    {
     "data": {
      "text/plain": [
       "array([65.62343  , 89.595955 , 61.091343 , 65.34555  , 80.542496 ,\n",
       "       26.043304 , 85.375656 ,  4.2873864, 67.914246 ], dtype=float32)"
      ]
     },
     "execution_count": 51,
     "metadata": {},
     "output_type": "execute_result"
    }
   ],
   "source": [
    "env.observation_space.sample()"
   ]
  },
  {
   "cell_type": "code",
   "execution_count": 52,
   "id": "df78060f",
   "metadata": {},
   "outputs": [],
   "source": [
    "#episodes = 5\n",
    "#for episode in range (1, episodes):\n",
    "#    state = env.reset()\n",
    "#    done  = False\n",
    "#    score = 0\n",
    "    \n",
    "#    while not done:\n",
    "#        #env.render()\n",
    "#        action = env.sample_action()\n",
    "#        n_state, reward, done, info = env.step(action)\n",
    "#        score+=reward\n",
    "#    print('Episode:{}, Score:{}, Reward:{}, Done:{} '.format(episode, score, reward, done))"
   ]
  },
  {
   "cell_type": "raw",
   "id": "2ad01642",
   "metadata": {},
   "source": [
    "# 2. Create Deep Learning Model with Keras\n",
    "https://machinelearningmastery.com/tensorflow-tutorial-deep-learning-with-tf-keras/\n",
    "\n",
    "### 5-Step Model Life-Cycle\n",
    "\n",
    "################################################################################ \n",
    "1- Define the model ::  select the type of model you need and choose the architecture or network topology.\n",
    "\n",
    "From an API perspective, this involves :\n",
    "---> define the layers of the model\n",
    "---> configure each layer with a number of nodes and activation function\n",
    "---> connect the layers together into a cohesive model.\n",
    "\n",
    "\n",
    "\n",
    "\n",
    "Models can be defined either with the Sequential API or the Functional API\n",
    "\n",
    "SEQUENTIAL\n",
    "involves defining a Sequential class and adding layers to the model one by one in a linear manner, from input to output.\n",
    "\n",
    "\n",
    "##############################################################\n",
    "##### example of a model defined with the sequential api\n",
    "##############################################################\n",
    "\n",
    "accepts [8] inputs, \n",
    "has [1] hidden layer with [10] nodes, \n",
    "has an output layer with [1] node to predict a numerical value\n",
    "\n",
    "from tensorflow.keras import Sequential\n",
    "from tensorflow.keras.layers import Dense\n",
    "\n",
    "model = Sequential()\n",
    "model.add(Dense(10, input_shape=(8,)))  <---- INPUTS,   NODES\n",
    "model.add(Dense(1))                     <---- OUTPUT NODE\n",
    "\n",
    "##############################################################\n",
    "# example of a model defined with the sequential api\n",
    "##############################################################\n",
    "\n",
    "accepts [8] inputs, \n",
    "has [1] hidden layer with [100] nodes, \n",
    "has an output layer with [1] node to predict a numerical value\n",
    "\n",
    "from tensorflow.keras import Sequential\n",
    "from tensorflow.keras.layers import Dense\n",
    "\n",
    "model = Sequential()\n",
    "model.add(Dense(100, input_shape=(8,)))\n",
    "model.add(Dense(80))\n",
    "model.add(Dense(30))\n",
    "model.add(Dense(10))\n",
    "model.add(Dense(5))\n",
    "model.add(Dense(1))\n",
    "\n",
    "\n",
    "\n",
    "FUNCTIONAL\n",
    "involves explicitly connecting the output of one layer to the input of another layer\n",
    "\n",
    "Input Layer :: defined via the Input class, and the shape of an input sample is specified\n",
    "\n",
    "...\n",
    "# define the layers\n",
    "x_in = Input(shape=(8,))\n",
    "\n",
    "\n",
    "Connecting Layers :: a fully connected layer can be connected to the input by calling the layer and passing the input layer\n",
    "...\n",
    "x = Dense(10)(x_in)\n",
    "\n",
    "then we can connect this to an output layer in the same manner\n",
    "...\n",
    "x_out = Dense(1)(x)\n",
    "\n",
    "\n",
    "##############################################################\n",
    "# example of a model defined with the functional api\n",
    "##############################################################\n",
    "\n",
    "from tensorflow.keras import Model\n",
    "from tensorflow.keras import Input\n",
    "from tensorflow.keras.layers import Dense\n",
    "\n",
    "# define the layers\n",
    "x_in = Input(shape=(8,))\n",
    "x = Dense(10)(x_in)\n",
    "x_out = Dense(1)(x)\n",
    "\n",
    "# define the model\n",
    "model = Model(inputs=x_in, outputs=x_out)\n",
    "\n",
    "\n",
    "https://www.tensorflow.org/guide/keras/functional_api\n",
    "\n",
    "################################################################################\n",
    "2- Compile the model\n",
    "\n",
    "Compiling the model requires :\n",
    "---> select a loss function that you want to optimize, such as:  mean,  squared,  error  or  cross-entropy.\n",
    "---> select an algorithm to perform the optimization procedure {typically stochastic gradient descent or a modern variation, such as Adam}\n",
    "---> select any performance metrics to keep track of during the model training process.\n",
    "\n",
    "From an API perspective, this involves calling a function to compile the model with the chosen configuration, \n",
    "which will prepare the appropriate data structures required for the efficient use of the model you have defined.\n",
    "\n",
    "Sample 1\n",
    "\n",
    "# compile the model\n",
    "opt = SGD(learning_rate=0.01, momentum=0.9)\n",
    "model.compile(optimizer=opt, loss='binary_crossentropy')\n",
    "\n",
    "Sample 2\n",
    "...\n",
    "# compile the model\n",
    "model.compile(optimizer='sgd', loss='mse')\n",
    "\n",
    "#Loss functions :: https://www.tensorflow.org/api_docs/python/tf/keras/losses\n",
    "\n",
    "#metrics :: https://www.tensorflow.org/api_docs/python/tf/keras/metrics\n",
    "\n",
    "################################################################################\n",
    "3- Fit the model\n",
    "\n",
    "Fitting the model requires : \n",
    "---> select the training configuration, such as the number of epochs (loops through the training dataset) \n",
    "---> select the batch size (number of samples in an epoch used to estimate model error)\n",
    "\n",
    "\n",
    "Sample \n",
    "...\n",
    "# fit the model\n",
    "model.fit(X, y, epochs=100, batch_size=32)\n",
    "\n",
    "#How to choose batch size :: \n",
    "https://machinelearningmastery.com/how-to-control-the-speed-and-stability-of-training-neural-networks-with-gradient-descent-batch-size/\n",
    "\n",
    "################################################################################\n",
    "4- Evaluate the model\n",
    "\n",
    "Evaluating the model requires :\n",
    "---> choose a holdout dataset used to evaluate the model. \n",
    "     This should be data not used in the training process so that you can get an unbiased estimate of the performance of the \n",
    "     model when making predictions on new data.\n",
    "\n",
    "From an API perspective, this involves calling a function with the holdout dataset and getting a loss and perhaps other metrics that can be reported.\n",
    "\n",
    "Sample\n",
    "...\n",
    "# evaluate the model\n",
    "loss = model.evaluate(X, y, verbose=0)\n",
    "\n",
    "################################################################################\n",
    "5- Make predictions\n",
    "\n",
    "It requires to have new data for which a prediction is required\n",
    "\n",
    "From an API perspective, you simply call a function to make a prediction of a class label, probability, or numerical value—whatever you designed your model to predict.\n",
    "\n",
    "Sample\n",
    "...\n",
    "# make a prediction\n",
    "yhat = model.predict(X)"
   ]
  },
  {
   "cell_type": "code",
   "execution_count": 53,
   "id": "c6b51520",
   "metadata": {},
   "outputs": [
    {
     "name": "stdout",
     "output_type": "stream",
     "text": [
      "Name: tensorflow\n",
      "Version: 2.12.0\n",
      "Summary: TensorFlow is an open source machine learning framework for everyone.\n",
      "Home-page: https://www.tensorflow.org/\n",
      "Author: Google Inc.\n",
      "Author-email: packages@tensorflow.org\n",
      "License: Apache 2.0\n",
      "Location: c:\\programdata\\anaconda3\\envs\\aim_sandbox\\lib\\site-packages\n",
      "Requires: tensorflow-intel\n",
      "Required-by: keras-rl2\n"
     ]
    }
   ],
   "source": [
    "!python -m pip show tensorflow\n",
    "#!pip show pyproj"
   ]
  },
  {
   "cell_type": "code",
   "execution_count": 54,
   "id": "c36d331d",
   "metadata": {},
   "outputs": [
    {
     "name": "stdout",
     "output_type": "stream",
     "text": [
      "Import tensorflow done\n"
     ]
    }
   ],
   "source": [
    "import os\n",
    "\n",
    "import numpy as np\n",
    "import tensorflow \n",
    "print(\"Import tensorflow done\")\n",
    "\n",
    "from tensorflow import keras\n",
    "from keras.models  import Sequential\n",
    "from keras.layers  import Dense, Flatten\n",
    "from keras.optimizers import Adam\n",
    "\n",
    "# Disable GPU computation\n",
    "os.environ[\"CUDA_VISIBLE_DEVICES\"] = \"-1\"\n",
    "os.environ[\"TF_CPP_MIN_LOG_LEVEL\"] = \"3\""
   ]
  },
  {
   "cell_type": "code",
   "execution_count": 55,
   "id": "c52540ba",
   "metadata": {},
   "outputs": [
    {
     "name": "stdout",
     "output_type": "stream",
     "text": [
      "Import keras rl done\n"
     ]
    }
   ],
   "source": [
    "from rl.agents import DQNAgent\n",
    "from rl.policy import BoltzmannQPolicy\n",
    "from rl.memory import SequentialMemory\n",
    "\n",
    "print(\"Import keras rl done\")"
   ]
  },
  {
   "cell_type": "code",
   "execution_count": 56,
   "id": "bc04d664",
   "metadata": {},
   "outputs": [
    {
     "name": "stdout",
     "output_type": "stream",
     "text": [
      "Import matplotlib done\n"
     ]
    }
   ],
   "source": [
    "import matplotlib.pyplot as plt\n",
    "\n",
    "print(\"Import matplotlib done\")"
   ]
  },
  {
   "cell_type": "code",
   "execution_count": 57,
   "id": "916f73f5",
   "metadata": {},
   "outputs": [
    {
     "name": "stdout",
     "output_type": "stream",
     "text": [
      "(9,)\n",
      "2\n"
     ]
    }
   ],
   "source": [
    "states = env.observation_space.shape\n",
    "actions = env.action_space.n\n",
    "print(states)\n",
    "print(actions)\n",
    "\n"
   ]
  },
  {
   "cell_type": "code",
   "execution_count": 58,
   "id": "229f0ce3",
   "metadata": {},
   "outputs": [],
   "source": [
    "def build_model(states, actions):\n",
    "    model = Sequential()\n",
    "    model.add(Flatten(input_shape=(1, *states)))\n",
    "    model.add(Dense(24, activation='relu'))\n",
    "    model.add(Dense(24, activation='relu'))\n",
    "    model.add(Dense(actions, activation='linear')) # softmax, activation='linear', activation=tf.nn.sigmoid\n",
    "    return model\n",
    "\n",
    "    #model = Sequential()\n",
    "    #model.add(Dense(24, activation='relu', input_shape = states))\n",
    "    #model.add(Dense(24, activation='relu'))\n",
    "    #model.add(Dense(actions, activation='linear'))\n",
    "    #return model"
   ]
  },
  {
   "cell_type": "code",
   "execution_count": 59,
   "id": "540f82bf",
   "metadata": {},
   "outputs": [],
   "source": [
    "#del model"
   ]
  },
  {
   "cell_type": "code",
   "execution_count": 60,
   "id": "53ccdde4",
   "metadata": {},
   "outputs": [],
   "source": [
    "model = build_model(states, actions)"
   ]
  },
  {
   "cell_type": "code",
   "execution_count": 61,
   "id": "e2f7969f",
   "metadata": {},
   "outputs": [
    {
     "name": "stdout",
     "output_type": "stream",
     "text": [
      "Model: \"sequential_2\"\n",
      "_________________________________________________________________\n",
      " Layer (type)                Output Shape              Param #   \n",
      "=================================================================\n",
      " flatten_2 (Flatten)         (None, 9)                 0         \n",
      "                                                                 \n",
      " dense_6 (Dense)             (None, 24)                240       \n",
      "                                                                 \n",
      " dense_7 (Dense)             (None, 24)                600       \n",
      "                                                                 \n",
      " dense_8 (Dense)             (None, 2)                 50        \n",
      "                                                                 \n",
      "=================================================================\n",
      "Total params: 890\n",
      "Trainable params: 890\n",
      "Non-trainable params: 0\n",
      "_________________________________________________________________\n",
      "None\n"
     ]
    }
   ],
   "source": [
    "print(model.summary())"
   ]
  },
  {
   "cell_type": "code",
   "execution_count": 62,
   "id": "3b4f8961",
   "metadata": {},
   "outputs": [],
   "source": [
    "# Compile model\n",
    "from keras.optimizers import SGD\n",
    "\n",
    "# compile the model\n",
    "sgd = SGD(learning_rate=0.001, momentum=0.8)\n",
    "model.compile(optimizer=sgd, loss='binary_crossentropy')\n",
    "\n",
    "# fit the model\n",
    "#history = model.fit(X, y, epochs=100, batch_size=32, verbose=0, validation_split=0.3)\n",
    "\n",
    "# plot learning curves\n",
    "#pyplot.title('Learning Curves')\n",
    "#pyplot.xlabel('Epoch')\n",
    "#pyplot.ylabel('Cross Entropy')\n",
    "#pyplot.plot(history.history['loss'], label='train')\n",
    "#pyplot.plot(history.history['val_loss'], label='val')\n",
    "#pyplot.legend()\n",
    "#pyplot.show()\n",
    "\n",
    "#https://www.tensorflow.org/api_docs/python/tf/keras/optimizers\n",
    "\n",
    "#The three most common loss functions are:\n",
    "\n",
    "#‘binary_crossentropy‘ for binary classification\n",
    "#‘sparse_categorical_crossentropy‘ for multi-class classification\n",
    "#‘mse‘ (mean squared error) for regression\n",
    "\n",
    "# compile the model\n",
    "#model.compile(optimizer='sgd', loss='mse')\n",
    "\n",
    "#https://www.tensorflow.org/api_docs/python/tf/keras/losses\n",
    "\n",
    "#model.compile(loss='binary_crossentropy', optimizer='adam', metrics=['accuracy'])"
   ]
  },
  {
   "cell_type": "code",
   "execution_count": 63,
   "id": "8cac4854",
   "metadata": {},
   "outputs": [],
   "source": [
    "def build_agent(model, actions):\n",
    "    policy = BoltzmannQPolicy()\n",
    "    memory = SequentialMemory(limit=50000, window_length=1)\n",
    "    dqn = DQNAgent(model=model, memory=memory, policy=policy, nb_actions = actions, nb_steps_warmup = 100,target_model_update = 1e-2)\n",
    "    return dqn"
   ]
  },
  {
   "cell_type": "code",
   "execution_count": 64,
   "id": "8e607744",
   "metadata": {},
   "outputs": [
    {
     "name": "stdout",
     "output_type": "stream",
     "text": [
      "<keras.engine.sequential.Sequential object at 0x0000023B7FB87340>\n",
      "2\n"
     ]
    }
   ],
   "source": [
    "print(model)\n",
    "print(actions)"
   ]
  },
  {
   "cell_type": "code",
   "execution_count": 65,
   "id": "8464505f",
   "metadata": {},
   "outputs": [
    {
     "name": "stdout",
     "output_type": "stream",
     "text": [
      "Training for 50000 steps ...\n",
      "Interval 1 (0 steps performed)\n",
      "10000/10000 [==============================] - 86s 9ms/step - reward: -0.3376\n",
      "42 episodes - episode_reward: -79.315 [-207.251, 48.431] - loss: 1.177 - mae: 4.695 - mean_q: -5.540\n",
      "\n",
      "Interval 2 (10000 steps performed)\n",
      "10000/10000 [==============================] - 81s 8ms/step - reward: -0.4241\n",
      "39 episodes - episode_reward: -109.649 [-196.052, 47.334] - loss: 2.220 - mae: 6.343 - mean_q: -7.778\n",
      "\n",
      "Interval 3 (20000 steps performed)\n",
      "10000/10000 [==============================] - 84s 8ms/step - reward: -0.3140\n",
      "48 episodes - episode_reward: -65.256 [-188.695, 50.097] - loss: 2.609 - mae: 7.472 - mean_q: -10.010\n",
      "\n",
      "Interval 4 (30000 steps performed)\n",
      "10000/10000 [==============================] - 84s 8ms/step - reward: -0.3537\n",
      "42 episodes - episode_reward: -84.100 [-195.893, 48.892] - loss: 2.478 - mae: 7.244 - mean_q: -9.556\n",
      "\n",
      "Interval 5 (40000 steps performed)\n",
      "10000/10000 [==============================] - 85s 9ms/step - reward: -0.3460\n",
      "done, took 419.267 seconds\n"
     ]
    }
   ],
   "source": [
    "#descreate == \n",
    "dqn = build_agent(model, actions)\n",
    "dqn.compile(Adam(learning_rate=1e-3), metrics=['mae']) #mae\n",
    "history = dqn.fit(env, nb_steps = 50000, action_repetition=1, callbacks=None, verbose=1, visualize=False, nb_max_start_steps=0, start_step_policy=None, log_interval=10000, nb_max_episode_steps=300)"
   ]
  },
  {
   "cell_type": "code",
   "execution_count": 66,
   "id": "125b4be6",
   "metadata": {},
   "outputs": [
    {
     "name": "stdout",
     "output_type": "stream",
     "text": [
      "dict_keys(['episode_reward', 'nb_episode_steps', 'nb_steps'])\n",
      "{'episode_reward': [-141.15755536888244, -117.17809924232664, -122.41977283035578, -151.13438355364016, -150.94433910561037, -128.48790962430192, -136.7137236349685, -152.82493509807404, -85.26997648668356, -118.33545716298137, -139.96208933732117, 34.67119226231403, 11.27189338419883, 33.68968692589609, 30.74075974367725, -91.69844967873702, 31.357605497535456, -106.41489530232123, -146.3662473623166, 22.994196470460036, -139.15457922849853, 12.790409793684026, 41.591139896459566, -161.28036538596788, 29.541241236021122, 8.13142702890633, -207.2510345306174, -134.06406010638005, 48.43054228706676, 43.57461747327409, -145.44182378731827, -119.81510256983586, -96.29865742117866, -127.53602984311269, -136.67322769383992, 11.872563184836533, 33.26196272250071, -155.24731483692, -129.26886838434743, -143.70704566788444, -120.40285420213993, -120.10368499578287, -137.888672729738, -172.64462842914284, -101.44988464922366, -117.95072464482772, -135.62767407790827, -187.96481864663912, 41.14837761933491, -158.60622645133662, -67.02056535979239, 0.2023459371753138, -103.03146048114472, -153.97513172017935, -128.65796408547314, -133.71094605318854, -113.84919600897915, -101.95008632302972, 4.920726476676147, -169.714534499113, -129.2717559772079, -196.05225844001123, -176.03372174746886, -152.93911678238206, -154.68181748653205, -172.9977914795124, -129.23642945316948, 35.565607071690856, -193.9807828954157, 47.334155430739024, -152.9475833938305, -174.81638969699438, -120.02305152026572, -178.8012957034738, -147.0845642252217, 38.351339438839766, -143.3420193002757, 41.825957891709656, -159.5223865645336, 5.938906080845984, -125.84005874209755, -176.1719827066474, -127.63417305520092, 46.40852293147308, -138.4421247198099, -181.88840982633954, 36.73656311950602, 25.028145346846568, -136.87658624808796, -109.71868205839893, 16.99043347669273, 47.79413557114701, 50.09721268307577, -6.960815738205913, -166.9299660875681, -119.56243477512601, -188.69458653324904, -21.435983659613484, -170.0406172838119, -165.6723123580192, -179.14966603834088, -10.120908680615921, -3.5691120820074427, 48.34528468829681, 32.02696520135227, 26.61132982993303, -163.26715341540398, -133.67677024469097, -10.672733560677063, -165.1282132285856, -173.03694667100243, 48.92971461082986, -125.21669327120242, -125.81457892097433, 37.17457384261388, -117.77256088890665, -130.10957347696043, 47.33160249961297, -149.94532816052737, 24.70978611927693, -119.35289243972403, -163.35219443952647, -162.10740295221535, -114.16872418311843, 48.38753777481095, 47.638085466759435, -13.927818996948576, 40.24995134779653, 13.648279980614575, -111.70612846568646, -114.67341258895925, -192.86016279317468, -118.71912813415427, -112.49095661059721, -144.3304346558735, -141.24912646443056, -105.9980092737462, -189.1712130715895, 20.858950381517165, 23.065226026957873, -28.24078146509146, -162.72831579191143, -195.89250683861945, -116.06764208221968, -116.14523929132433, -114.68658411891315, -115.4722041407051, 14.915615799754136, -143.417145544575, -149.02056672817125, 33.00049999668083, 45.966083366602646, -111.3105871745739, -114.68550872999583, 8.838866042658438, -121.36470746657724, -107.60554789914958, -168.16915689769235, -153.93652078359682, -131.473869461072, -131.34178595704734, -119.7170993670024, 14.579916417829288, -113.39907173853847, 48.30466887497302, 48.89238028334959, 37.46135179962801, -139.64496430258552, 42.47304468531367, -123.12528816562086, 38.1050987893109, 22.271267082368478, -162.97550997805897, -124.04858302541815, 46.39777732617163, 47.58748654406232, -147.40421662196974, -148.0476295950593, 46.11601145656714, -176.3676558685947, -144.9882798691806, -165.76904438246598, -118.44920343972149, 29.59739832040311, -143.72066995110447, 32.2413262718232, 12.798352892284575, -127.89860970339295, 26.88175880104433, -111.59571853779602, -156.94103717666684, -135.7185162326838, -140.24934537186837, -142.84393279942964, -171.40236230051826, -114.08224151594482, -148.0292899544015, -109.3865944974487, 31.536039467575474, -128.2465723750732, -129.69552144798118, 31.909187975824995, -125.3150752289848, -137.69331999976185, -122.84300809617997, -105.08786229720549, 44.96577024736344, 26.356440962169998, -126.57535851318679, 24.717736065890605, -126.75397895747781, -139.33935049333553, 1.8843079298094731, 8.47512988445041], 'nb_episode_steps': [300, 300, 300, 300, 300, 300, 300, 300, 294, 300, 300, 99, 165, 81, 124, 300, 106, 300, 300, 105, 300, 148, 67, 300, 83, 173, 300, 300, 58, 70, 300, 300, 300, 300, 300, 127, 77, 300, 300, 300, 300, 300, 300, 300, 300, 300, 300, 300, 70, 300, 291, 146, 300, 300, 300, 300, 300, 300, 177, 300, 300, 300, 300, 300, 300, 300, 300, 80, 300, 54, 300, 300, 300, 300, 300, 87, 300, 71, 300, 127, 300, 300, 300, 63, 300, 300, 74, 129, 300, 300, 136, 59, 51, 175, 300, 300, 300, 174, 300, 300, 300, 195, 149, 57, 97, 100, 300, 300, 150, 300, 300, 57, 300, 300, 81, 300, 300, 61, 300, 91, 300, 300, 300, 300, 51, 57, 246, 82, 123, 300, 300, 300, 300, 300, 300, 300, 300, 300, 108, 98, 202, 300, 300, 300, 300, 300, 300, 128, 300, 300, 81, 63, 300, 300, 123, 300, 300, 300, 300, 300, 300, 300, 143, 300, 55, 56, 112, 300, 67, 300, 73, 98, 300, 300, 60, 56, 300, 300, 63, 300, 300, 300, 300, 84, 300, 98, 113, 300, 120, 300, 300, 300, 300, 300, 300, 300, 300, 300, 93, 300, 300, 97, 300, 300, 300, 300, 75, 123, 300, 115, 300, 300, 136, 136], 'nb_steps': [300, 600, 900, 1200, 1500, 1800, 2100, 2400, 2694, 2994, 3294, 3393, 3558, 3639, 3763, 4063, 4169, 4469, 4769, 4874, 5174, 5322, 5389, 5689, 5772, 5945, 6245, 6545, 6603, 6673, 6973, 7273, 7573, 7873, 8173, 8300, 8377, 8677, 8977, 9277, 9577, 9877, 10177, 10477, 10777, 11077, 11377, 11677, 11747, 12047, 12338, 12484, 12784, 13084, 13384, 13684, 13984, 14284, 14461, 14761, 15061, 15361, 15661, 15961, 16261, 16561, 16861, 16941, 17241, 17295, 17595, 17895, 18195, 18495, 18795, 18882, 19182, 19253, 19553, 19680, 19980, 20280, 20580, 20643, 20943, 21243, 21317, 21446, 21746, 22046, 22182, 22241, 22292, 22467, 22767, 23067, 23367, 23541, 23841, 24141, 24441, 24636, 24785, 24842, 24939, 25039, 25339, 25639, 25789, 26089, 26389, 26446, 26746, 27046, 27127, 27427, 27727, 27788, 28088, 28179, 28479, 28779, 29079, 29379, 29430, 29487, 29733, 29815, 29938, 30238, 30538, 30838, 31138, 31438, 31738, 32038, 32338, 32638, 32746, 32844, 33046, 33346, 33646, 33946, 34246, 34546, 34846, 34974, 35274, 35574, 35655, 35718, 36018, 36318, 36441, 36741, 37041, 37341, 37641, 37941, 38241, 38541, 38684, 38984, 39039, 39095, 39207, 39507, 39574, 39874, 39947, 40045, 40345, 40645, 40705, 40761, 41061, 41361, 41424, 41724, 42024, 42324, 42624, 42708, 43008, 43106, 43219, 43519, 43639, 43939, 44239, 44539, 44839, 45139, 45439, 45739, 46039, 46339, 46432, 46732, 47032, 47129, 47429, 47729, 48029, 48329, 48404, 48527, 48827, 48942, 49242, 49542, 49678, 49814]}\n"
     ]
    }
   ],
   "source": [
    "# list all data in history\n",
    "print(history.history.keys())\n",
    "\n",
    "print(history.history)\n",
    "\n",
    "# ppo \n",
    "# ddpg"
   ]
  },
  {
   "cell_type": "code",
   "execution_count": 45,
   "id": "5d708856",
   "metadata": {},
   "outputs": [
    {
     "data": {
      "image/png": "[encoded data removed]",
      "text/plain": [
       "<Figure size 640x480 with 1 Axes>"
      ]
     },
     "metadata": {},
     "output_type": "display_data"
    }
   ],
   "source": [
    "#collects the history returned from training the model and creates two charts\n",
    "\n",
    "# summarize history for accuracy\n",
    "# plot of accuracy on the training and validation datasets over training epochs\n",
    "plt.plot(history.history['episode_reward'])  #accuracy - acc\n",
    "#plt.plot(history.history['nb_episode_steps'])  #val_accuracy  -  val_acc\n",
    "plt.title('model episode reward')  #model accuracy\n",
    "plt.ylabel('rewards')  #accuracy\n",
    "plt.xlabel('epoch')     #epoch\n",
    "plt.legend(['train', 'test'], loc='upper left')\n",
    "plt.show()"
   ]
  },
  {
   "cell_type": "code",
   "execution_count": null,
   "id": "9b52247a",
   "metadata": {},
   "outputs": [],
   "source": [
    "# summarize history for loss\n",
    "# plot of loss on the training and validation datasets over training epochs\n",
    "plt.plot(history.history['loss'])\n",
    "plt.plot(history.history['val_loss'])\n",
    "plt.title('model loss')\n",
    "plt.ylabel('loss')\n",
    "plt.xlabel('epoch')\n",
    "plt.legend(['train', 'test'], loc='upper left')\n",
    "plt.show()"
   ]
  },
  {
   "cell_type": "code",
   "execution_count": null,
   "id": "dda21747",
   "metadata": {},
   "outputs": [],
   "source": [
    "#score = dqn.test(env, nb_episodes=2, visualize=False)\n",
    "#print(np.mean(scores_history['episode_reward']))"
   ]
  },
  {
   "cell_type": "code",
   "execution_count": null,
   "id": "2fe4e984",
   "metadata": {},
   "outputs": [],
   "source": [
    "# Fit the model\n",
    "#history = model.fit(X, Y, validation_split=0.33, epochs=4, batch_size=10, verbose=0)"
   ]
  },
  {
   "cell_type": "code",
   "execution_count": null,
   "id": "b14c4563",
   "metadata": {},
   "outputs": [],
   "source": [
    "#seqModel =model.fit(x_train, y_train,\n",
    "#          batch_size      = batch_size,\n",
    "#          epochs          = num_epochs,\n",
    "#          validation_data = (x_test, y_test),\n",
    "#          shuffle         = True,\n",
    "#          verbose=0, callbacks=[TQDMNotebookCallback()]) #for visualization"
   ]
  },
  {
   "cell_type": "code",
   "execution_count": null,
   "id": "98a7b8b6",
   "metadata": {},
   "outputs": [],
   "source": [
    "#from keras.callbacks import History \n",
    "#history = History()"
   ]
  },
  {
   "cell_type": "code",
   "execution_count": null,
   "id": "058d8d87",
   "metadata": {},
   "outputs": [],
   "source": []
  },
  {
   "cell_type": "code",
   "execution_count": null,
   "id": "e3ce2804",
   "metadata": {},
   "outputs": [],
   "source": [
    "# from keras.callbacks import History \n",
    "# history = History()\n",
    "\n",
    "# list all data in history\n",
    "# print(history.history.keys())\n",
    "\n",
    "# print the history of validation loss\n",
    "# print(history.history['val_loss'])\n",
    "\n",
    "# 150\n",
    "#history = model.fit(X, Y, validation_split=0.33, nb_epoch=4, batch_size=10, verbose=0)"
   ]
  },
  {
   "cell_type": "code",
   "execution_count": null,
   "id": "17b9d0e9",
   "metadata": {},
   "outputs": [],
   "source": [
    "# Visualize training history\n",
    "\n",
    "#--------------------------------------------------\n",
    "#  ALREADY IMPORTED EARLIER\n",
    "#--------------------------------------------------\n",
    "#from tensorflow.keras.models import Sequential\n",
    "#from tensorflow.keras.layers import Dense\n",
    "#import numpy as np\n",
    "\n",
    "\n",
    "#import matplotlib.pyplot as plt\n",
    "\n",
    "# load pima indians dataset\n",
    "#dataset = np.loadtxt(\"pima-indians-diabetes.csv\", delimiter=\",\")\n",
    "\n",
    "# split into input (X) and output (Y) variables\n",
    "# ACTIONS  ......X = dataset[:,0:8]\n",
    "# STATES   ......Y = dataset[:,8]\n",
    "\n",
    "# create model\n",
    "#model = Sequential()\n",
    "#model.add(Dense(12, input_dim=8, activation='relu'))\n",
    "#model.add(Dense(8, activation='relu'))\n",
    "#model.add(Dense(1, activation='sigmoid'))\n",
    "\n",
    "# Compile model\n",
    "# model.compile(loss='binary_crossentropy', optimizer='adam', metrics=['accuracy'])\n",
    "\n",
    "# Fit the model\n",
    "# history = model.fit(X, Y, validation_split=0.33, epochs=150, batch_size=10, verbose=0)\n",
    "\n",
    "# list all data in history\n",
    "# print(history.history.keys())\n",
    "\n",
    "#collects the history returned from training the model and creates two charts\n",
    "\n",
    "# summarize history for accuracy\n",
    "# plot of accuracy on the training and validation datasets over training epochs\n",
    "# plt.plot(history.history['accuracy'])\n",
    "# plt.plot(history.history['val_accuracy'])\n",
    "# plt.title('model accuracy')\n",
    "# plt.ylabel('accuracy')\n",
    "# plt.xlabel('epoch')\n",
    "# plt.legend(['train', 'test'], loc='upper left')\n",
    "# plt.show()\n",
    "\n",
    "# summarize history for loss\n",
    "# plot of loss on the training and validation datasets over training epochs\n",
    "# plt.plot(history.history['loss'])\n",
    "# plt.plot(history.history['val_loss'])\n",
    "# plt.title('model loss')\n",
    "# plt.ylabel('loss')\n",
    "# plt.xlabel('epoch')\n",
    "# plt.legend(['train', 'test'], loc='upper left')\n",
    "# plt.show()"
   ]
  }
 ],
 "metadata": {
  "kernelspec": {
   "display_name": "Python 3 (ipykernel)",
   "language": "python",
   "name": "python3"
  },
  "language_info": {
   "codemirror_mode": {
    "name": "ipython",
    "version": 3
   },
   "file_extension": ".py",
   "mimetype": "text/x-python",
   "name": "python",
   "nbconvert_exporter": "python",
   "pygments_lexer": "ipython3",
   "version": "3.10.11"
  }
 },
 "nbformat": 4,
 "nbformat_minor": 5
}
